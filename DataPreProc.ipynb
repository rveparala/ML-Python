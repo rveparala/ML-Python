{
  "nbformat": 4,
  "nbformat_minor": 0,
  "metadata": {
    "colab": {
      "provenance": [],
      "authorship_tag": "ABX9TyOUlaspW10d/eCdFdSSTqbG",
      "include_colab_link": true
    },
    "kernelspec": {
      "name": "python3",
      "display_name": "Python 3"
    },
    "language_info": {
      "name": "python"
    }
  },
  "cells": [
    {
      "cell_type": "markdown",
      "metadata": {
        "id": "view-in-github",
        "colab_type": "text"
      },
      "source": [
        "<a href=\"https://colab.research.google.com/github/rveparala/ML-Python/blob/main/DataPreProc.ipynb\" target=\"_parent\"><img src=\"https://colab.research.google.com/assets/colab-badge.svg\" alt=\"Open In Colab\"/></a>"
      ]
    },
    {
      "cell_type": "code",
      "execution_count": null,
      "metadata": {
        "id": "94iUTz56lTRp"
      },
      "outputs": [],
      "source": [
        "import numpy as numpy\n",
        "import pandas as pd"
      ]
    },
    {
      "cell_type": "code",
      "source": [
        "# Load the Wine Quality Red dataset\n",
        "\n",
        "data = pd.read_csv(\"winequality-red.csv\", sep=';')\n",
        "\n",
        "#print(data)\n",
        "\n",
        "# Separate features and target\n",
        "\n",
        "#X = data.iloc[:,:-1].values\n",
        "#Y = data.iloc[:,-1].values\n",
        "\n",
        "X = data.drop('quality', axis=1)\n",
        "Y = data['quality']\n",
        "\n",
        "print(X)\n",
        "print(Y)"
      ],
      "metadata": {
        "colab": {
          "base_uri": "https://localhost:8080/"
        },
        "id": "Ia5nKxGUmAmv",
        "outputId": "0d7199d3-8702-482b-fe9e-4417a4ef920a"
      },
      "execution_count": null,
      "outputs": [
        {
          "output_type": "stream",
          "name": "stdout",
          "text": [
            "      fixed acidity  volatile acidity  citric acid  residual sugar  chlorides  \\\n",
            "0               7.4             0.700         0.00             1.9      0.076   \n",
            "1               7.8             0.880         0.00             2.6      0.098   \n",
            "2               7.8             0.760         0.04             2.3      0.092   \n",
            "3              11.2             0.280         0.56             1.9      0.075   \n",
            "4               7.4             0.700         0.00             1.9      0.076   \n",
            "...             ...               ...          ...             ...        ...   \n",
            "1594            6.2             0.600         0.08             2.0      0.090   \n",
            "1595            5.9             0.550         0.10             2.2      0.062   \n",
            "1596            6.3             0.510         0.13             2.3      0.076   \n",
            "1597            5.9             0.645         0.12             2.0      0.075   \n",
            "1598            6.0             0.310         0.47             3.6      0.067   \n",
            "\n",
            "      free sulfur dioxide  total sulfur dioxide  density    pH  sulphates  \\\n",
            "0                    11.0                  34.0  0.99780  3.51       0.56   \n",
            "1                    25.0                  67.0  0.99680  3.20       0.68   \n",
            "2                    15.0                  54.0  0.99700  3.26       0.65   \n",
            "3                    17.0                  60.0  0.99800  3.16       0.58   \n",
            "4                    11.0                  34.0  0.99780  3.51       0.56   \n",
            "...                   ...                   ...      ...   ...        ...   \n",
            "1594                 32.0                  44.0  0.99490  3.45       0.58   \n",
            "1595                 39.0                  51.0  0.99512  3.52       0.76   \n",
            "1596                 29.0                  40.0  0.99574  3.42       0.75   \n",
            "1597                 32.0                  44.0  0.99547  3.57       0.71   \n",
            "1598                 18.0                  42.0  0.99549  3.39       0.66   \n",
            "\n",
            "      alcohol  \n",
            "0         9.4  \n",
            "1         9.8  \n",
            "2         9.8  \n",
            "3         9.8  \n",
            "4         9.4  \n",
            "...       ...  \n",
            "1594     10.5  \n",
            "1595     11.2  \n",
            "1596     11.0  \n",
            "1597     10.2  \n",
            "1598     11.0  \n",
            "\n",
            "[1599 rows x 11 columns]\n",
            "0       5\n",
            "1       5\n",
            "2       5\n",
            "3       6\n",
            "4       5\n",
            "       ..\n",
            "1594    5\n",
            "1595    6\n",
            "1596    6\n",
            "1597    5\n",
            "1598    6\n",
            "Name: quality, Length: 1599, dtype: int64\n"
          ]
        }
      ]
    },
    {
      "cell_type": "code",
      "source": [
        "# Split the dataset into an 80-20 training-test set\n",
        "\n",
        "from sklearn.model_selection import train_test_split\n",
        "X_train, X_test, Y_train, Y_test = train_test_split(X, Y, test_size = 0.2, random_state=42)\n",
        "print(X_train)\n",
        "print(X_test)\n",
        "print(Y_train)\n",
        "print(Y_test)"
      ],
      "metadata": {
        "colab": {
          "base_uri": "https://localhost:8080/"
        },
        "id": "-P_5TleJoOsn",
        "outputId": "12e6ea15-55ae-4e90-f47a-da29b8e42df0"
      },
      "execution_count": null,
      "outputs": [
        {
          "output_type": "stream",
          "name": "stdout",
          "text": [
            "      fixed acidity  volatile acidity  citric acid  residual sugar  chlorides  \\\n",
            "493             8.7             0.690         0.31             3.0      0.086   \n",
            "354             6.1             0.210         0.40             1.4      0.066   \n",
            "342            10.9             0.390         0.47             1.8      0.118   \n",
            "834             8.8             0.685         0.26             1.6      0.088   \n",
            "705             8.4             1.035         0.15             6.0      0.073   \n",
            "...             ...               ...          ...             ...        ...   \n",
            "1130            9.1             0.600         0.00             1.9      0.058   \n",
            "1294            8.2             0.635         0.10             2.1      0.073   \n",
            "860             7.2             0.620         0.06             2.7      0.077   \n",
            "1459            7.9             0.200         0.35             1.7      0.054   \n",
            "1126            5.8             0.290         0.26             1.7      0.063   \n",
            "\n",
            "      free sulfur dioxide  total sulfur dioxide  density    pH  sulphates  \\\n",
            "493                  23.0                  81.0  1.00020  3.48       0.74   \n",
            "354                  40.5                 165.0  0.99120  3.25       0.59   \n",
            "342                   6.0                  14.0  0.99820  3.30       0.75   \n",
            "834                  16.0                  23.0  0.99694  3.32       0.47   \n",
            "705                  11.0                  54.0  0.99900  3.37       0.49   \n",
            "...                   ...                   ...      ...   ...        ...   \n",
            "1130                  5.0                  10.0  0.99770  3.18       0.63   \n",
            "1294                 25.0                  60.0  0.99638  3.29       0.75   \n",
            "860                  15.0                  85.0  0.99746  3.51       0.54   \n",
            "1459                  7.0                  15.0  0.99458  3.32       0.80   \n",
            "1126                  3.0                  11.0  0.99150  3.39       0.54   \n",
            "\n",
            "      alcohol  \n",
            "493      11.6  \n",
            "354      11.9  \n",
            "342       9.8  \n",
            "834       9.4  \n",
            "705       9.9  \n",
            "...       ...  \n",
            "1130     10.4  \n",
            "1294     10.9  \n",
            "860       9.5  \n",
            "1459     11.9  \n",
            "1126     13.5  \n",
            "\n",
            "[1279 rows x 11 columns]\n",
            "      fixed acidity  volatile acidity  citric acid  residual sugar  chlorides  \\\n",
            "803             7.7             0.560         0.08            2.50      0.114   \n",
            "124             7.8             0.500         0.17            1.60      0.082   \n",
            "350            10.7             0.670         0.22            2.70      0.107   \n",
            "682             8.5             0.460         0.31            2.25      0.078   \n",
            "1326            6.7             0.460         0.24            1.70      0.077   \n",
            "...             ...               ...          ...             ...        ...   \n",
            "1259            6.8             0.640         0.00            2.70      0.123   \n",
            "1295            6.6             0.630         0.00            4.30      0.093   \n",
            "1155            8.3             0.600         0.25            2.20      0.118   \n",
            "963             8.8             0.270         0.39            2.00      0.100   \n",
            "704             9.1             0.765         0.04            1.60      0.078   \n",
            "\n",
            "      free sulfur dioxide  total sulfur dioxide  density    pH  sulphates  \\\n",
            "803                  14.0                  46.0  0.99710  3.24       0.66   \n",
            "124                  21.0                 102.0  0.99600  3.39       0.48   \n",
            "350                  17.0                  34.0  1.00040  3.28       0.98   \n",
            "682                  32.0                  58.0  0.99800  3.33       0.54   \n",
            "1326                 18.0                  34.0  0.99480  3.39       0.60   \n",
            "...                   ...                   ...      ...   ...        ...   \n",
            "1259                 15.0                  33.0  0.99538  3.44       0.63   \n",
            "1295                 51.0                  77.5  0.99558  3.20       0.45   \n",
            "1155                  9.0                  38.0  0.99616  3.15       0.53   \n",
            "963                  20.0                  27.0  0.99546  3.15       0.69   \n",
            "704                   4.0                  14.0  0.99800  3.29       0.54   \n",
            "\n",
            "      alcohol  \n",
            "803       9.6  \n",
            "124       9.5  \n",
            "350       9.9  \n",
            "682       9.8  \n",
            "1326     10.6  \n",
            "...       ...  \n",
            "1259     11.3  \n",
            "1295      9.5  \n",
            "1155      9.8  \n",
            "963      11.2  \n",
            "704       9.7  \n",
            "\n",
            "[320 rows x 11 columns]\n",
            "493     6\n",
            "354     6\n",
            "342     6\n",
            "834     5\n",
            "705     5\n",
            "       ..\n",
            "1130    6\n",
            "1294    6\n",
            "860     5\n",
            "1459    7\n",
            "1126    6\n",
            "Name: quality, Length: 1279, dtype: int64\n",
            "803     6\n",
            "124     5\n",
            "350     6\n",
            "682     5\n",
            "1326    6\n",
            "       ..\n",
            "1259    6\n",
            "1295    5\n",
            "1155    5\n",
            "963     6\n",
            "704     4\n",
            "Name: quality, Length: 320, dtype: int64\n"
          ]
        }
      ]
    },
    {
      "cell_type": "code",
      "source": [
        "# Create an instance of the StandardScaler class\n",
        "from sklearn.preprocessing import StandardScaler\n",
        "\n",
        "sc = StandardScaler()\n",
        "\n",
        "# Fit the StandardScaler on the features from the training set and transform it\n",
        "\n",
        "X_train = sc.fit_transform(X_train)\n",
        "\n",
        "# Apply the transform to the test set\n",
        "\n",
        "X_test = sc.transform(X_test)"
      ],
      "metadata": {
        "id": "pNO3XmRto2Hw"
      },
      "execution_count": null,
      "outputs": []
    },
    {
      "cell_type": "code",
      "source": [
        "# Print the scaled training and test datasets\n",
        "\n",
        "print(X_train)\n",
        "print(X_test)"
      ],
      "metadata": {
        "colab": {
          "base_uri": "https://localhost:8080/"
        },
        "id": "MIN-J8Sdo-72",
        "outputId": "1393d92b-ebb5-4647-b65d-2ced0870a882"
      },
      "execution_count": null,
      "outputs": [
        {
          "output_type": "stream",
          "name": "stdout",
          "text": [
            "[[ 0.21833164  0.88971201  0.19209222 ...  1.09349989  0.45822284\n",
            "   1.12317723]\n",
            " [-1.29016623 -1.78878251  0.65275338 ... -0.40043872 -0.40119696\n",
            "   1.40827174]\n",
            " [ 1.49475291 -0.78434707  1.01104539 ... -0.07566946  0.51551749\n",
            "  -0.58738978]\n",
            " ...\n",
            " [-0.65195559  0.49909822 -1.08752211 ...  1.28836145 -0.68767023\n",
            "  -0.87248428]\n",
            " [-0.24582155 -1.84458448  0.39683051 ...  0.05423824  0.80199076\n",
            "   1.40827174]\n",
            " [-1.46422367 -1.34236676 -0.06383064 ...  0.50891521 -0.68767023\n",
            "   2.92877575]]\n",
            "[[-3.33991288e-01  2.42581186e-01 -9.63136787e-01 ... -4.42561113e-01\n",
            "   6.34928030e-02 -7.55088351e-01]\n",
            " [-2.78643172e-01 -9.49230728e-02 -4.94583756e-01 ...  5.19964189e-01\n",
            "  -1.15964614e+00 -8.44713081e-01]\n",
            " [ 1.32645219e+00  8.61338994e-01 -2.34276516e-01 ... -1.85887699e-01\n",
            "   2.23796204e+00 -4.86214161e-01]\n",
            " ...\n",
            " [-1.90259149e-03  4.67584025e-01 -7.80921719e-02 ... -1.02007629e+00\n",
            "  -8.19885325e-01 -5.75838891e-01]\n",
            " [ 2.74837989e-01 -1.38868940e+00  6.50768099e-01 ... -1.02007629e+00\n",
            "   2.67349294e-01  6.78907330e-01]\n",
            " [ 4.40882337e-01  1.39572074e+00 -1.17138258e+00 ... -1.21719346e-01\n",
            "  -7.51933161e-01 -6.65463621e-01]]\n"
          ]
        }
      ]
    }
  ]
}